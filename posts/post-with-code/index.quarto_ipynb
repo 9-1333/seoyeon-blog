{
  "cells": [
    {
      "cell_type": "markdown",
      "metadata": {},
      "source": [
        "---\n",
        "title: \"Post With Code\"\n",
        "author: \"Harlow Malloc\"\n",
        "date: \"2025-03-06\"\n",
        "categories: [news, code, analysis]\n",
        "image: \"image.jpg\"\n",
        "---\n",
        "\n",
        "\n",
        "This is a post with executable code.\n"
      ],
      "id": "50bc3ff0"
    },
    {
      "cell_type": "code",
      "metadata": {},
      "source": [
        "import numpy as np\n",
        "\n",
        "a = np.arange(10)\n",
        "a"
      ],
      "id": "d1596e65",
      "execution_count": null,
      "outputs": []
    }
  ],
  "metadata": {
    "kernelspec": {
      "name": "python3",
      "language": "python",
      "display_name": "Python 3 (ipykernel)",
      "path": "C:\\Users\\USER\\AppData\\Local\\Programs\\Python\\Python39\\share\\jupyter\\kernels\\python3"
    }
  },
  "nbformat": 4,
  "nbformat_minor": 5
}